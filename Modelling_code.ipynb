{
 "cells": [
  {
   "cell_type": "code",
   "execution_count": 9,
   "id": "4e57614d-7356-4df8-8e06-5a270e0e0e52",
   "metadata": {},
   "outputs": [],
   "source": [
    "import pandas as pd\n",
    "import numpy as np\n"
   ]
  },
  {
   "cell_type": "code",
   "execution_count": 10,
   "id": "ebd7e5f2-b3f3-4435-bfe5-c69d417fca3c",
   "metadata": {},
   "outputs": [],
   "source": [
    "df=pd.read_csv('dataset')"
   ]
  },
  {
   "cell_type": "code",
   "execution_count": 11,
   "id": "8230374a-c245-4b90-a27b-59edd403cb4c",
   "metadata": {},
   "outputs": [],
   "source": [
    "df=df.drop(columns='Unnamed: 0')"
   ]
  },
  {
   "cell_type": "code",
   "execution_count": 12,
   "id": "f4d1a714-3136-467d-a492-6fb22d313c77",
   "metadata": {},
   "outputs": [
    {
     "data": {
      "text/html": [
       "<div>\n",
       "<style scoped>\n",
       "    .dataframe tbody tr th:only-of-type {\n",
       "        vertical-align: middle;\n",
       "    }\n",
       "\n",
       "    .dataframe tbody tr th {\n",
       "        vertical-align: top;\n",
       "    }\n",
       "\n",
       "    .dataframe thead th {\n",
       "        text-align: right;\n",
       "    }\n",
       "</style>\n",
       "<table border=\"1\" class=\"dataframe\">\n",
       "  <thead>\n",
       "    <tr style=\"text-align: right;\">\n",
       "      <th></th>\n",
       "      <th>Mode_Sea</th>\n",
       "      <th>Mode_Truck</th>\n",
       "      <th>Mode_Train</th>\n",
       "      <th>Distance</th>\n",
       "      <th>Delay_Status</th>\n",
       "      <th>Delay_Hours</th>\n",
       "      <th>Traffic_Condition</th>\n",
       "      <th>Weather_Conditions_Clear</th>\n",
       "      <th>Weather_Conditions_Foggy</th>\n",
       "      <th>Weather_Conditions_Rain</th>\n",
       "    </tr>\n",
       "  </thead>\n",
       "  <tbody>\n",
       "    <tr>\n",
       "      <th>0</th>\n",
       "      <td>1</td>\n",
       "      <td>0</td>\n",
       "      <td>0</td>\n",
       "      <td>1954</td>\n",
       "      <td>0</td>\n",
       "      <td>0</td>\n",
       "      <td>1</td>\n",
       "      <td>1</td>\n",
       "      <td>0</td>\n",
       "      <td>0</td>\n",
       "    </tr>\n",
       "    <tr>\n",
       "      <th>1</th>\n",
       "      <td>0</td>\n",
       "      <td>0</td>\n",
       "      <td>1</td>\n",
       "      <td>2708</td>\n",
       "      <td>0</td>\n",
       "      <td>0</td>\n",
       "      <td>1</td>\n",
       "      <td>1</td>\n",
       "      <td>0</td>\n",
       "      <td>0</td>\n",
       "    </tr>\n",
       "    <tr>\n",
       "      <th>2</th>\n",
       "      <td>0</td>\n",
       "      <td>1</td>\n",
       "      <td>0</td>\n",
       "      <td>2179</td>\n",
       "      <td>0</td>\n",
       "      <td>0</td>\n",
       "      <td>0</td>\n",
       "      <td>1</td>\n",
       "      <td>0</td>\n",
       "      <td>0</td>\n",
       "    </tr>\n",
       "    <tr>\n",
       "      <th>3</th>\n",
       "      <td>1</td>\n",
       "      <td>0</td>\n",
       "      <td>0</td>\n",
       "      <td>2424</td>\n",
       "      <td>0</td>\n",
       "      <td>0</td>\n",
       "      <td>2</td>\n",
       "      <td>0</td>\n",
       "      <td>0</td>\n",
       "      <td>1</td>\n",
       "    </tr>\n",
       "    <tr>\n",
       "      <th>4</th>\n",
       "      <td>1</td>\n",
       "      <td>0</td>\n",
       "      <td>0</td>\n",
       "      <td>4727</td>\n",
       "      <td>0</td>\n",
       "      <td>0</td>\n",
       "      <td>2</td>\n",
       "      <td>0</td>\n",
       "      <td>0</td>\n",
       "      <td>0</td>\n",
       "    </tr>\n",
       "  </tbody>\n",
       "</table>\n",
       "</div>"
      ],
      "text/plain": [
       "   Mode_Sea  Mode_Truck  Mode_Train  Distance  Delay_Status  Delay_Hours  \\\n",
       "0         1           0           0      1954             0            0   \n",
       "1         0           0           1      2708             0            0   \n",
       "2         0           1           0      2179             0            0   \n",
       "3         1           0           0      2424             0            0   \n",
       "4         1           0           0      4727             0            0   \n",
       "\n",
       "   Traffic_Condition  Weather_Conditions_Clear  Weather_Conditions_Foggy  \\\n",
       "0                  1                         1                         0   \n",
       "1                  1                         1                         0   \n",
       "2                  0                         1                         0   \n",
       "3                  2                         0                         0   \n",
       "4                  2                         0                         0   \n",
       "\n",
       "   Weather_Conditions_Rain  \n",
       "0                        0  \n",
       "1                        0  \n",
       "2                        0  \n",
       "3                        1  \n",
       "4                        0  "
      ]
     },
     "execution_count": 12,
     "metadata": {},
     "output_type": "execute_result"
    }
   ],
   "source": [
    "df.head()"
   ]
  },
  {
   "cell_type": "code",
   "execution_count": 13,
   "id": "3280ffe7-5903-4ad8-af88-b41ef23bb904",
   "metadata": {},
   "outputs": [
    {
     "data": {
      "text/plain": [
       "Mode_Sea                    int64\n",
       "Mode_Truck                  int64\n",
       "Mode_Train                  int64\n",
       "Distance                    int64\n",
       "Delay_Status                int64\n",
       "Delay_Hours                 int64\n",
       "Traffic_Condition           int64\n",
       "Weather_Conditions_Clear    int64\n",
       "Weather_Conditions_Foggy    int64\n",
       "Weather_Conditions_Rain     int64\n",
       "dtype: object"
      ]
     },
     "execution_count": 13,
     "metadata": {},
     "output_type": "execute_result"
    }
   ],
   "source": [
    "df.dtypes"
   ]
  },
  {
   "cell_type": "code",
   "execution_count": 14,
   "id": "a87b2155-01b7-40a8-896c-0e8f664896cc",
   "metadata": {},
   "outputs": [
    {
     "name": "stdout",
     "output_type": "stream",
     "text": [
      "Training Features:(800, 9), Training Target:(800,)\n",
      "Training Features:(200, 9), Training Target:(200,)\n"
     ]
    }
   ],
   "source": [
    "#X- independent variables used for prediction(Everything except delay status in our case)\n",
    "#y- dependent variable what we are predicting(only delay status)\n",
    "# train-used to train our model\n",
    "# test- used to evaulate model performance\n",
    "\n",
    "from sklearn.model_selection import train_test_split\n",
    "X= df.drop(columns=['Delay_Status'])\n",
    "y=df['Delay_Status']\n",
    "\n",
    "X_train,X_test,y_train,y_test= train_test_split(X,y,test_size=0.2,random_state=42,stratify=y)\n",
    "print(f\"Training Features:{X_train.shape}, Training Target:{y_train.shape}\")\n",
    "print(f\"Training Features:{X_test.shape}, Training Target:{y_test.shape}\")"
   ]
  },
  {
   "cell_type": "code",
   "execution_count": 15,
   "id": "a8c74031-2863-40ce-a47c-6792f14be75a",
   "metadata": {},
   "outputs": [
    {
     "data": {
      "text/plain": [
       "Delay_Status\n",
       "0    703\n",
       "1    297\n",
       "Name: count, dtype: int64"
      ]
     },
     "execution_count": 15,
     "metadata": {},
     "output_type": "execute_result"
    }
   ],
   "source": [
    "df['Delay_Status'].value_counts()"
   ]
  },
  {
   "cell_type": "code",
   "execution_count": 16,
   "id": "d844693d-1ab7-4930-b655-81d45f3ed15c",
   "metadata": {},
   "outputs": [
    {
     "ename": "NameError",
     "evalue": "name 'plt' is not defined",
     "output_type": "error",
     "traceback": [
      "\u001b[1;31m---------------------------------------------------------------------------\u001b[0m",
      "\u001b[1;31mNameError\u001b[0m                                 Traceback (most recent call last)",
      "Cell \u001b[1;32mIn[16], line 5\u001b[0m\n\u001b[0;32m      3\u001b[0m \u001b[38;5;66;03m# Visualize distribution in training and testing sets\u001b[39;00m\n\u001b[0;32m      4\u001b[0m sns\u001b[38;5;241m.\u001b[39mcountplot(x\u001b[38;5;241m=\u001b[39my_train)\n\u001b[1;32m----> 5\u001b[0m \u001b[43mplt\u001b[49m\u001b[38;5;241m.\u001b[39mtitle(\u001b[38;5;124m\"\u001b[39m\u001b[38;5;124mTraining Set Target Distribution\u001b[39m\u001b[38;5;124m\"\u001b[39m)\n\u001b[0;32m      6\u001b[0m plt\u001b[38;5;241m.\u001b[39mshow()\n\u001b[0;32m      8\u001b[0m sns\u001b[38;5;241m.\u001b[39mcountplot(x\u001b[38;5;241m=\u001b[39my_test)\n",
      "\u001b[1;31mNameError\u001b[0m: name 'plt' is not defined"
     ]
    },
    {
     "data": {
      "image/png": "[encoded data removed]",
      "text/plain": [
       "<Figure size 640x480 with 1 Axes>"
      ]
     },
     "metadata": {},
     "output_type": "display_data"
    }
   ],
   "source": [
    "import seaborn as sns\n",
    "\n",
    "# Visualize distribution in training and testing sets\n",
    "sns.countplot(x=y_train)\n",
    "plt.title(\"Training Set Target Distribution\")\n",
    "plt.show()\n",
    "\n",
    "sns.countplot(x=y_test)\n",
    "plt.title(\"Testing Set Target Distribution\")\n",
    "plt.show()\n"
   ]
  },
  {
   "cell_type": "code",
   "execution_count": 18,
   "id": "3b3caef1-1a29-4dfb-b80f-b907a7d6da36",
   "metadata": {},
   "outputs": [
    {
     "name": "stdout",
     "output_type": "stream",
     "text": [
      "Accuracy: 0.97\n"
     ]
    }
   ],
   "source": [
    "from sklearn.ensemble import GradientBoostingClassifier\n",
    "#initialize\n",
    "gb= GradientBoostingClassifier()\n",
    "\n",
    "#training the model on train data\n",
    "gb.fit(X_train, y_train)\n",
    "\n",
    "#making predictions on test data\n",
    "y_pred= gb.predict(X_test)\n",
    "print(\"Accuracy:\",accuracy_score(y_test,y_pred))\n"
   ]
  },
  {
   "cell_type": "code",
   "execution_count": 19,
   "id": "97173b93-cc2c-43a8-b88f-91207538fc84",
   "metadata": {},
   "outputs": [
    {
     "name": "stdout",
     "output_type": "stream",
     "text": [
      "Accuracy: 0.705\n"
     ]
    }
   ],
   "source": [
    "from sklearn.svm import SVC\n",
    "#initialize\n",
    "sv= SVC()\n",
    "\n",
    "#training the model on train data\n",
    "sv.fit(X_train, y_train)\n",
    "\n",
    "#making predictions on test data\n",
    "y_pred= sv.predict(X_test)\n",
    "print(\"Accuracy:\",accuracy_score(y_test,y_pred))\n"
   ]
  },
  {
   "cell_type": "code",
   "execution_count": 20,
   "id": "ebdf883e-6324-4a9f-a7ae-f8244ef8417a",
   "metadata": {},
   "outputs": [
    {
     "name": "stdout",
     "output_type": "stream",
     "text": [
      "Accuracy: 0.985\n"
     ]
    },
    {
     "name": "stderr",
     "output_type": "stream",
     "text": [
      "C:\\Users\\karan\\AppData\\Local\\Programs\\Python\\Python313\\Lib\\site-packages\\sklearn\\linear_model\\_logistic.py:465: ConvergenceWarning: lbfgs failed to converge (status=1):\n",
      "STOP: TOTAL NO. of ITERATIONS REACHED LIMIT.\n",
      "\n",
      "Increase the number of iterations (max_iter) or scale the data as shown in:\n",
      "    https://scikit-learn.org/stable/modules/preprocessing.html\n",
      "Please also refer to the documentation for alternative solver options:\n",
      "    https://scikit-learn.org/stable/modules/linear_model.html#logistic-regression\n",
      "  n_iter_i = _check_optimize_result(\n"
     ]
    }
   ],
   "source": [
    "from sklearn.linear_model import LogisticRegression\n",
    "\n",
    "#initialize\n",
    "lr= LogisticRegression()\n",
    "\n",
    "#training the model on train data\n",
    "lr.fit(X_train, y_train)\n",
    "\n",
    "#making predictions on test data\n",
    "y_pred= lr.predict(X_test)\n",
    "print(\"Accuracy:\",accuracy_score(y_test,y_pred))\n"
   ]
  },
  {
   "cell_type": "code",
   "execution_count": 17,
   "id": "b3f5f3cc-78fa-42a2-b5c9-5cee1678c7e6",
   "metadata": {},
   "outputs": [
    {
     "name": "stdout",
     "output_type": "stream",
     "text": [
      "Model Evaluation:\n",
      "\n",
      "Accuracy: 0.975\n",
      "\n",
      " Classification Report:               precision    recall  f1-score   support\n",
      "\n",
      "           0       0.98      0.99      0.98       141\n",
      "           1       0.97      0.95      0.96        59\n",
      "\n",
      "    accuracy                           0.97       200\n",
      "   macro avg       0.97      0.97      0.97       200\n",
      "weighted avg       0.97      0.97      0.97       200\n",
      "\n",
      "\n",
      " Confusion Matrix: [[139   2]\n",
      " [  3  56]]\n"
     ]
    }
   ],
   "source": [
    "#RandomForest model creation + evaluation\n",
    "from sklearn.ensemble import RandomForestClassifier\n",
    "from sklearn.metrics import classification_report, confusion_matrix, accuracy_score\n",
    "\n",
    "#initialize\n",
    "rf_model= RandomForestClassifier(random_state=42, class_weight=\"balanced\")\n",
    "\n",
    "#training the model on train data\n",
    "rf_model.fit(X_train, y_train)\n",
    "\n",
    "#making predictions on test data\n",
    "y_pred= rf_model.predict(X_test)\n",
    "\n",
    "#evaluation\n",
    "print(\"Model Evaluation:\\n\")\n",
    "print(\"Accuracy:\",accuracy_score(y_test,y_pred))\n",
    "print(\"\\n Classification Report:\", classification_report(y_test,y_pred))\n",
    "print(\"\\n Confusion Matrix:\",confusion_matrix(y_test,y_pred))  \n"
   ]
  },
  {
   "cell_type": "code",
   "execution_count": 22,
   "id": "08b12916-4653-40d7-9589-107c531ffde8",
   "metadata": {},
   "outputs": [
    {
     "name": "stdout",
     "output_type": "stream",
     "text": [
      "Cross-Validation Scores: [0.9625  0.975   0.98125 0.95625 0.96875]\n",
      "Mean CV Score: 0.96875\n"
     ]
    }
   ],
   "source": [
    "#cross validation to confirm the models stability and generalizability\n",
    "from sklearn.model_selection import cross_val_score\n",
    "\n",
    "cv_score=cross_val_score(rf_model,X_train,y_train,cv=5,scoring='accuracy')\n",
    "print(f\"Cross-Validation Scores: {cv_score}\")\n",
    "print(f\"Mean CV Score: {cv_score.mean()}\")"
   ]
  },
  {
   "cell_type": "code",
   "execution_count": 44,
   "id": "deb8b026-2249-4b50-a76a-3c050956b9ec",
   "metadata": {},
   "outputs": [
    {
     "data": {
      "image/png": "[encoded data removed]",
      "text/plain": [
       "<Figure size 1000x600 with 1 Axes>"
      ]
     },
     "metadata": {},
     "output_type": "display_data"
    },
    {
     "data": {
      "text/html": [
       "<div>\n",
       "<style scoped>\n",
       "    .dataframe tbody tr th:only-of-type {\n",
       "        vertical-align: middle;\n",
       "    }\n",
       "\n",
       "    .dataframe tbody tr th {\n",
       "        vertical-align: top;\n",
       "    }\n",
       "\n",
       "    .dataframe thead th {\n",
       "        text-align: right;\n",
       "    }\n",
       "</style>\n",
       "<table border=\"1\" class=\"dataframe\">\n",
       "  <thead>\n",
       "    <tr style=\"text-align: right;\">\n",
       "      <th></th>\n",
       "      <th>Feature</th>\n",
       "      <th>Importance</th>\n",
       "    </tr>\n",
       "  </thead>\n",
       "  <tbody>\n",
       "    <tr>\n",
       "      <th>4</th>\n",
       "      <td>Delay_Hours</td>\n",
       "      <td>0.804042</td>\n",
       "    </tr>\n",
       "    <tr>\n",
       "      <th>3</th>\n",
       "      <td>Distance</td>\n",
       "      <td>0.139321</td>\n",
       "    </tr>\n",
       "    <tr>\n",
       "      <th>5</th>\n",
       "      <td>Traffic_Condition</td>\n",
       "      <td>0.017698</td>\n",
       "    </tr>\n",
       "    <tr>\n",
       "      <th>0</th>\n",
       "      <td>Mode_Sea</td>\n",
       "      <td>0.007268</td>\n",
       "    </tr>\n",
       "    <tr>\n",
       "      <th>8</th>\n",
       "      <td>Weather_Conditions_Rain</td>\n",
       "      <td>0.007147</td>\n",
       "    </tr>\n",
       "    <tr>\n",
       "      <th>6</th>\n",
       "      <td>Weather_Conditions_Clear</td>\n",
       "      <td>0.006753</td>\n",
       "    </tr>\n",
       "    <tr>\n",
       "      <th>2</th>\n",
       "      <td>Mode_Train</td>\n",
       "      <td>0.006635</td>\n",
       "    </tr>\n",
       "    <tr>\n",
       "      <th>1</th>\n",
       "      <td>Mode_Truck</td>\n",
       "      <td>0.006146</td>\n",
       "    </tr>\n",
       "    <tr>\n",
       "      <th>7</th>\n",
       "      <td>Weather_Conditions_Foggy</td>\n",
       "      <td>0.004989</td>\n",
       "    </tr>\n",
       "  </tbody>\n",
       "</table>\n",
       "</div>"
      ],
      "text/plain": [
       "                    Feature  Importance\n",
       "4               Delay_Hours    0.804042\n",
       "3                  Distance    0.139321\n",
       "5         Traffic_Condition    0.017698\n",
       "0                  Mode_Sea    0.007268\n",
       "8   Weather_Conditions_Rain    0.007147\n",
       "6  Weather_Conditions_Clear    0.006753\n",
       "2                Mode_Train    0.006635\n",
       "1                Mode_Truck    0.006146\n",
       "7  Weather_Conditions_Foggy    0.004989"
      ]
     },
     "execution_count": 44,
     "metadata": {},
     "output_type": "execute_result"
    }
   ],
   "source": [
    "#feature importance which affects the prediction\n",
    "import matplotlib.pyplot as plt\n",
    "%matplotlib inline\n",
    "feat_imp= rf_model.feature_importances_\n",
    "feat_names= X.columns\n",
    "imp_df= pd.DataFrame({'Feature':feat_names,'Importance':feat_imp})\n",
    "imp_df= imp_df.sort_values(by='Importance', ascending=False)\n",
    "\n",
    "#Plotting\n",
    "plt.figure(figsize=(10,6))\n",
    "plt.barh(imp_df['Feature'], imp_df['Importance'])\n",
    "plt.xlabel('Importance')\n",
    "plt.ylabel('Feature')\n",
    "plt.title('Feature Importance')\n",
    "plt.gca().invert_yaxis()\n",
    "plt.show()\n",
    "imp_df"
   ]
  },
  {
   "cell_type": "code",
   "execution_count": 46,
   "id": "91fb81d2-9e4a-4290-a52c-7c1ec9a5093d",
   "metadata": {},
   "outputs": [
    {
     "data": {
      "text/plain": [
       "['delay_pred_model.pk1']"
      ]
     },
     "execution_count": 46,
     "metadata": {},
     "output_type": "execute_result"
    }
   ],
   "source": [
    "import joblib\n",
    "joblib.dump(rf_model,'delay_pred_model.pk1')"
   ]
  },
  {
   "cell_type": "code",
   "execution_count": null,
   "id": "ea24fa68-6172-4e9b-ac84-9a8edbc83317",
   "metadata": {},
   "outputs": [],
   "source": []
  }
 ],
 "metadata": {
  "kernelspec": {
   "display_name": "Python 3 (ipykernel)",
   "language": "python",
   "name": "python3"
  },
  "language_info": {
   "codemirror_mode": {
    "name": "ipython",
    "version": 3
   },
   "file_extension": ".py",
   "mimetype": "text/x-python",
   "name": "python",
   "nbconvert_exporter": "python",
   "pygments_lexer": "ipython3",
   "version": "3.13.1"
  }
 },
 "nbformat": 4,
 "nbformat_minor": 5
}
